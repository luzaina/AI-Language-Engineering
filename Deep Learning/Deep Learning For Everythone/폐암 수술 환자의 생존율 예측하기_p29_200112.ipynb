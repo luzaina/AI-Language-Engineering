{
 "cells": [
  {
   "cell_type": "markdown",
   "metadata": {},
   "source": [
    "케라스 함수 불러오기"
   ]
  },
  {
   "cell_type": "code",
   "execution_count": 19,
   "metadata": {},
   "outputs": [],
   "source": [
    "from keras.models import Sequential\n",
    "from keras.layers import Dense"
   ]
  },
  {
   "cell_type": "markdown",
   "metadata": {},
   "source": [
    "필요한 라이브러리 불러오기"
   ]
  },
  {
   "cell_type": "code",
   "execution_count": 20,
   "metadata": {},
   "outputs": [],
   "source": [
    "import numpy\n",
    "import tensorflow as tf # 케라스를 구동하려면 텐서플로우 모듈이 있어야 한다."
   ]
  },
  {
   "cell_type": "code",
   "execution_count": 21,
   "metadata": {},
   "outputs": [],
   "source": [
    "# 실행할 때마다 같은 결과를 출력하기 위해 설정하는 부분"
   ]
  },
  {
   "cell_type": "code",
   "execution_count": 22,
   "metadata": {},
   "outputs": [],
   "source": [
    "\n",
    "seed = 0\n",
    "numpy.random.seed (seed)\n",
    "tf.set_random_seed(seed)"
   ]
  },
  {
   "cell_type": "code",
   "execution_count": 23,
   "metadata": {},
   "outputs": [
    {
     "name": "stdout",
     "output_type": "stream",
     "text": [
      " C 드라이브의 볼륨에는 이름이 없습니다.\n",
      " 볼륨 일련 번호: 9E3C-600B\n",
      "\n",
      " C:\\Users\\dindi\\str\\모두의 딥러닝 디렉터리\n",
      "\n",
      "2020-01-16  오전 11:06    <DIR>          .\n",
      "2020-01-16  오전 11:06    <DIR>          ..\n",
      "2020-01-15  오후 04:09    <DIR>          .ipynb_checkpoints\n",
      "2020-01-12  오전 06:04    <DIR>          교재소스코드\n",
      "2020-01-15  오후 04:14             3,246 선형 회귀 실습2_p61_200115.ipynb\n",
      "2020-01-15  오후 04:27             5,938 선형 회귀 실습_p52_200115.ipynb\n",
      "2020-01-16  오전 11:06            14,419 폐암 수술 환자의 생존율 예측하기_p29_200112.ipynb\n",
      "               3개 파일              23,603 바이트\n",
      "               4개 디렉터리  41,365,422,080 바이트 남음\n"
     ]
    }
   ],
   "source": [
    "!dir"
   ]
  },
  {
   "cell_type": "code",
   "execution_count": 24,
   "metadata": {},
   "outputs": [],
   "source": [
    "import numpy as np"
   ]
  },
  {
   "cell_type": "markdown",
   "metadata": {},
   "source": [
    "## seed(임의의 숫자)"
   ]
  },
  {
   "cell_type": "code",
   "execution_count": 25,
   "metadata": {},
   "outputs": [
    {
     "data": {
      "text/plain": [
       "array([0.5488135 , 0.71518937, 0.60276338, 0.54488318, 0.4236548 ,\n",
       "       0.64589411, 0.43758721, 0.891773  , 0.96366276, 0.38344152])"
      ]
     },
     "execution_count": 25,
     "metadata": {},
     "output_type": "execute_result"
    }
   ],
   "source": [
    "np.random.rand(10)"
   ]
  },
  {
   "cell_type": "code",
   "execution_count": 26,
   "metadata": {},
   "outputs": [
    {
     "data": {
      "text/plain": [
       "array([0.79172504, 0.52889492, 0.56804456, 0.92559664, 0.07103606,\n",
       "       0.0871293 , 0.0202184 , 0.83261985, 0.77815675, 0.87001215])"
      ]
     },
     "execution_count": 26,
     "metadata": {},
     "output_type": "execute_result"
    }
   ],
   "source": [
    "np.random.rand(10)"
   ]
  },
  {
   "cell_type": "code",
   "execution_count": 27,
   "metadata": {},
   "outputs": [
    {
     "data": {
      "text/plain": [
       "array([], dtype=float64)"
      ]
     },
     "execution_count": 27,
     "metadata": {},
     "output_type": "execute_result"
    }
   ],
   "source": [
    "np.random.rand(0)"
   ]
  },
  {
   "cell_type": "code",
   "execution_count": 28,
   "metadata": {},
   "outputs": [],
   "source": [
    "seed=0\n",
    "np.random.seed(seed)"
   ]
  },
  {
   "cell_type": "code",
   "execution_count": 29,
   "metadata": {},
   "outputs": [
    {
     "data": {
      "text/plain": [
       "array([0.5488135 , 0.71518937, 0.60276338, 0.54488318, 0.4236548 ])"
      ]
     },
     "execution_count": 29,
     "metadata": {},
     "output_type": "execute_result"
    }
   ],
   "source": [
    "np.random.rand(5)"
   ]
  },
  {
   "cell_type": "code",
   "execution_count": 30,
   "metadata": {},
   "outputs": [
    {
     "data": {
      "text/plain": [
       "array([0.64589411, 0.43758721, 0.891773  , 0.96366276, 0.38344152])"
      ]
     },
     "execution_count": 30,
     "metadata": {},
     "output_type": "execute_result"
    }
   ],
   "source": [
    "np.random.rand(5)# 5개 임의로 불러줌"
   ]
  },
  {
   "cell_type": "code",
   "execution_count": 31,
   "metadata": {},
   "outputs": [
    {
     "data": {
      "text/plain": [
       "array([0.5488135 , 0.71518937, 0.60276338, 0.54488318, 0.4236548 ])"
      ]
     },
     "execution_count": 31,
     "metadata": {},
     "output_type": "execute_result"
    }
   ],
   "source": [
    "seed=0 # seed값을 한 셀안에 넣어주어야 같은 값이 나옴\n",
    "np.random.seed(seed)\n",
    "np.random.rand(5)"
   ]
  },
  {
   "cell_type": "code",
   "execution_count": 32,
   "metadata": {},
   "outputs": [
    {
     "data": {
      "text/plain": [
       "array([0.5488135 , 0.71518937, 0.60276338, 0.54488318, 0.4236548 ])"
      ]
     },
     "execution_count": 32,
     "metadata": {},
     "output_type": "execute_result"
    }
   ],
   "source": [
    "seed=0 # seed값을 한 셀안에 넣어주어야 같은 값이 나옴\n",
    "np.random.seed(seed)\n",
    "np.random.rand(5) # 1차원 배열의 형태로 나옴"
   ]
  },
  {
   "cell_type": "code",
   "execution_count": 34,
   "metadata": {},
   "outputs": [
    {
     "data": {
      "text/plain": [
       "7"
      ]
     },
     "execution_count": 34,
     "metadata": {},
     "output_type": "execute_result"
    }
   ],
   "source": [
    "# 5까지 아무거나\n",
    "np.random.randint(6)\n",
    "# 1부터 19까지 아무거나\n",
    "np.random.randint(1,20)\n",
    "#0부터 9까지 숫자 중 아무 숫자나 2행 3열의 형태로 보여달라\n",
    "# np.random.randint(10, size(2,3))\n",
    "# 10부터 19까지 숫자 중 아무 숫자나 3행 5열의 형태로 보여달라"
   ]
  },
  {
   "cell_type": "code",
   "execution_count": 35,
   "metadata": {},
   "outputs": [
    {
     "name": "stdout",
     "output_type": "stream",
     "text": [
      "[[0.76367992 0.87641303]\n",
      " [0.53095238 0.38451373]]\n",
      "\n",
      "[[0.2777934  0.05650517]\n",
      " [0.44143693 0.7142663 ]]\n",
      "\n",
      "[[1 1]\n",
      " [2 1]]\n"
     ]
    }
   ],
   "source": [
    "# 난수와 비슷하지만 시드 값에 따라 항상 같은 결과를 반환\n",
    "np.random.seed(76923) # 임의의 정수값을 준다. 보통은 0으로 준다.\n",
    "\n",
    "a = np.random.random((2,2))# 2행 2열의 형태로 나타남\n",
    "b = np.random.sample((2,2))\n",
    "c = np.random.randint(1,3,(2,2), dtype=int)\n",
    "\n",
    "print(a)\n",
    "print()\n",
    "print(b)\n",
    "print()\n",
    "print(c)\n"
   ]
  },
  {
   "cell_type": "code",
   "execution_count": 36,
   "metadata": {},
   "outputs": [
    {
     "name": "stdout",
     "output_type": "stream",
     "text": [
      "[[0.76367992 0.87641303]\n",
      " [0.53095238 0.38451373]]\n",
      "\n",
      "[[0.2777934  0.05650517]\n",
      " [0.44143693 0.7142663 ]]\n",
      "\n",
      "[[1 1]\n",
      " [2 1]]\n"
     ]
    }
   ],
   "source": [
    "# 난수와 비슷하지만 시드 값에 따라 항상 같은 결과를 반환\n",
    "np.random.seed(76923) # 임의의 정수값을 준다. 보통은 0으로 준다.\n",
    "\n",
    "a = np.random.random((2,2))\n",
    "b = np.random.sample((2,2))\n",
    "c = np.random.randint(1,3,(2,2), dtype=int)\n",
    "\n",
    "print(a)\n",
    "print()\n",
    "print(b)\n",
    "print()\n",
    "print(c)"
   ]
  },
  {
   "cell_type": "code",
   "execution_count": 37,
   "metadata": {},
   "outputs": [
    {
     "data": {
      "text/plain": [
       "array([0, 2, 1, 3, 4])"
      ]
     },
     "execution_count": 37,
     "metadata": {},
     "output_type": "execute_result"
    }
   ],
   "source": [
    "#0부터 4까지의 데이터를 석어서 나옴\n",
    "np.random.choice(5,5, replace=False) # shuffle 명령과 같다"
   ]
  },
  {
   "cell_type": "code",
   "execution_count": 38,
   "metadata": {},
   "outputs": [],
   "source": [
    "# 준비된 수술 환자 데이터를 불러들인다.\n",
    "Data_set = numpy.loadtxt('./교재소스코드/dataset/ThoraricSurgery.csv',delimiter=\",\")\n"
   ]
  },
  {
   "cell_type": "code",
   "execution_count": 39,
   "metadata": {},
   "outputs": [],
   "source": [
    "# 환자의 기록과 수술 결과를 x와 Y로 구분하여 저장\n",
    "X = Data_set[:,0:17]# 속성 : 환자에 대한 17개 항목에 대한 정보\n",
    "Y = Data_set[:,17] # 클래스: 환자수술결과"
   ]
  },
  {
   "cell_type": "code",
   "execution_count": 40,
   "metadata": {},
   "outputs": [],
   "source": [
    "# 딥러닝 구조를 결정(모델을 설정하고 실행하는 부분)\n",
    "\n",
    "model = Sequential()# 딥러닝 구조를 순차적으로 한층한층 쌓아올림\n",
    "model.add(Dense(30, input_dim=17,activation='relu')) # 0~17개의 데이터를 넣고 30개(결과)가 나옴 # add:추가 Dense는 층이다. 맨마지막: 출력층(맨위 위치) 맨 처음: 입력층(맨마지막 위치)\n",
    "model.add(Dense(1,activation='sigmoid')) # 30개를 통해서 나온 개수가 1 (분류:살아있다)"
   ]
  },
  {
   "cell_type": "code",
   "execution_count": 41,
   "metadata": {},
   "outputs": [
    {
     "name": "stdout",
     "output_type": "stream",
     "text": [
      "WARNING:tensorflow:From C:\\ProgramData\\Anaconda3\\lib\\site-packages\\keras\\backend\\tensorflow_backend.py:422: The name tf.global_variables is deprecated. Please use tf.compat.v1.global_variables instead.\n",
      "\n",
      "Epoch 1/30\n",
      "470/470 [==============================] - 0s 481us/step - loss: 0.8285 - accuracy: 0.1617\n",
      "Epoch 2/30\n",
      "470/470 [==============================] - 0s 153us/step - loss: 0.2251 - accuracy: 0.7617\n",
      "Epoch 3/30\n",
      "470/470 [==============================] - 0s 155us/step - loss: 0.1489 - accuracy: 0.8511\n",
      "Epoch 4/30\n",
      "470/470 [==============================] - 0s 162us/step - loss: 0.1489 - accuracy: 0.8511\n",
      "Epoch 5/30\n",
      "470/470 [==============================] - 0s 172us/step - loss: 0.1489 - accuracy: 0.8511\n",
      "Epoch 6/30\n",
      "470/470 [==============================] - 0s 170us/step - loss: 0.1489 - accuracy: 0.8511\n",
      "Epoch 7/30\n",
      "470/470 [==============================] - 0s 162us/step - loss: 0.1489 - accuracy: 0.8511\n",
      "Epoch 8/30\n",
      "470/470 [==============================] - 0s 176us/step - loss: 0.1489 - accuracy: 0.8511\n",
      "Epoch 9/30\n",
      "470/470 [==============================] - 0s 168us/step - loss: 0.1489 - accuracy: 0.8511\n",
      "Epoch 10/30\n",
      "470/470 [==============================] - 0s 170us/step - loss: 0.1489 - accuracy: 0.8511\n",
      "Epoch 11/30\n",
      "470/470 [==============================] - 0s 168us/step - loss: 0.1489 - accuracy: 0.8511\n",
      "Epoch 12/30\n",
      "470/470 [==============================] - 0s 185us/step - loss: 0.1489 - accuracy: 0.8511\n",
      "Epoch 13/30\n",
      "470/470 [==============================] - 0s 255us/step - loss: 0.1489 - accuracy: 0.8511\n",
      "Epoch 14/30\n",
      "470/470 [==============================] - 0s 253us/step - loss: 0.1489 - accuracy: 0.8511\n",
      "Epoch 15/30\n",
      "470/470 [==============================] - 0s 279us/step - loss: 0.1489 - accuracy: 0.8511\n",
      "Epoch 16/30\n",
      "470/470 [==============================] - 0s 194us/step - loss: 0.1489 - accuracy: 0.8511\n",
      "Epoch 17/30\n",
      "470/470 [==============================] - 0s 153us/step - loss: 0.1489 - accuracy: 0.8511\n",
      "Epoch 18/30\n",
      "470/470 [==============================] - 0s 176us/step - loss: 0.1489 - accuracy: 0.8511\n",
      "Epoch 19/30\n",
      "470/470 [==============================] - 0s 172us/step - loss: 0.1489 - accuracy: 0.8511\n",
      "Epoch 20/30\n",
      "470/470 [==============================] - 0s 172us/step - loss: 0.1489 - accuracy: 0.8511\n",
      "Epoch 21/30\n",
      "470/470 [==============================] - 0s 164us/step - loss: 0.1489 - accuracy: 0.8511\n",
      "Epoch 22/30\n",
      "470/470 [==============================] - 0s 168us/step - loss: 0.1489 - accuracy: 0.8511\n",
      "Epoch 23/30\n",
      "470/470 [==============================] - 0s 166us/step - loss: 0.1489 - accuracy: 0.8511\n",
      "Epoch 24/30\n",
      "470/470 [==============================] - 0s 174us/step - loss: 0.1489 - accuracy: 0.8511\n",
      "Epoch 25/30\n",
      "470/470 [==============================] - 0s 172us/step - loss: 0.1489 - accuracy: 0.8511\n",
      "Epoch 26/30\n",
      "470/470 [==============================] - 0s 172us/step - loss: 0.1489 - accuracy: 0.8511\n",
      "Epoch 27/30\n",
      "470/470 [==============================] - 0s 162us/step - loss: 0.1489 - accuracy: 0.8511\n",
      "Epoch 28/30\n",
      "470/470 [==============================] - 0s 168us/step - loss: 0.1489 - accuracy: 0.8511\n",
      "Epoch 29/30\n",
      "470/470 [==============================] - 0s 162us/step - loss: 0.1489 - accuracy: 0.8511\n",
      "Epoch 30/30\n",
      "470/470 [==============================] - 0s 166us/step - loss: 0.1489 - accuracy: 0.8511\n",
      "470/470 [==============================] - 0s 89us/step\n",
      "\n",
      " Accuracy: 0.8511\n"
     ]
    }
   ],
   "source": [
    "# 딥러닝을 실행\n",
    "model.compile(loss='mean_squared_error',optimizer='adam',metrics=['accuracy'])\n",
    "model.fit(X,Y, epochs=30, batch_size=10) # epochs: 반복의 수 300개의 데이터를 10묶어서 30번 반복해서 돌림\n",
    "\n",
    "# 결과를 출력\n",
    "print(\"\\n Accuracy: %.4f\" % (model.evaluate(X,Y)[1]))"
   ]
  },
  {
   "cell_type": "code",
   "execution_count": null,
   "metadata": {},
   "outputs": [],
   "source": []
  }
 ],
 "metadata": {
  "kernelspec": {
   "display_name": "Python 3",
   "language": "python",
   "name": "python3"
  },
  "language_info": {
   "codemirror_mode": {
    "name": "ipython",
    "version": 3
   },
   "file_extension": ".py",
   "mimetype": "text/x-python",
   "name": "python",
   "nbconvert_exporter": "python",
   "pygments_lexer": "ipython3",
   "version": "3.7.4"
  }
 },
 "nbformat": 4,
 "nbformat_minor": 2
}
