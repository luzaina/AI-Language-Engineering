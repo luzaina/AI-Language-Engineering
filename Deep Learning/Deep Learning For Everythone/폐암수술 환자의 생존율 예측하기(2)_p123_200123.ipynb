{
 "cells": [
  {
   "cell_type": "code",
   "execution_count": 2,
   "metadata": {},
   "outputs": [
    {
     "name": "stderr",
     "output_type": "stream",
     "text": [
      "Using TensorFlow backend.\n"
     ]
    }
   ],
   "source": [
    "# 딥러닝을 구동하는 데 필요한 케라스 함수를 불러옵니다.\n",
    "\n",
    "from keras.models import Sequential\n",
    "from keras. layers import Dense"
   ]
  },
  {
   "cell_type": "code",
   "execution_count": 3,
   "metadata": {},
   "outputs": [],
   "source": [
    "# 필요한 라이브러리를 불러옵니다.\n",
    "\n",
    "import numpy\n",
    "import tensorflow as tf"
   ]
  },
  {
   "cell_type": "code",
   "execution_count": 4,
   "metadata": {},
   "outputs": [],
   "source": [
    "# 실행할 때마다 같은 결과를 출력하기 위해 설정하는 부분입니다.\n",
    "\n",
    "seed = 0\n",
    "numpy.random.seed(seed)\n",
    "tf.set_random_seed(seed)"
   ]
  },
  {
   "cell_type": "code",
   "execution_count": 5,
   "metadata": {},
   "outputs": [],
   "source": [
    "# 준비된 수술 환자 데이터를 불러들인다.\n",
    "Data_set = numpy.loadtxt('./교재소스코드/dataset/ThoraricSurgery.csv',delimiter=\",\")"
   ]
  },
  {
   "cell_type": "code",
   "execution_count": 6,
   "metadata": {},
   "outputs": [],
   "source": [
    "# 환자의 기록과 수술 결과를 X와 Y로 구분하여 저장합니다.\n",
    "\n",
    "X = Data_set[:,0:17]\n",
    "Y = Data_set[:,17]"
   ]
  },
  {
   "cell_type": "code",
   "execution_count": 7,
   "metadata": {},
   "outputs": [],
   "source": [
    "# 딥러닝 구조를 결정합니다(모델을 설정하고 실행하는 부분)\n",
    "\n",
    "model = Sequential()\n",
    "model.add(Dense(30, input_dim=17, activation='relu'))\n",
    "model.add(Dense(1, activation='sigmoid'))"
   ]
  },
  {
   "cell_type": "code",
   "execution_count": 8,
   "metadata": {},
   "outputs": [
    {
     "name": "stdout",
     "output_type": "stream",
     "text": [
      "WARNING:tensorflow:From C:\\ProgramData\\Anaconda3\\lib\\site-packages\\keras\\backend\\tensorflow_backend.py:422: The name tf.global_variables is deprecated. Please use tf.compat.v1.global_variables instead.\n",
      "\n",
      "Epoch 1/30\n",
      "470/470 [==============================] - 0s 466us/step - loss: 0.6613 - accuracy: 0.3149\n",
      "Epoch 2/30\n",
      "470/470 [==============================] - 0s 138us/step - loss: 0.1488 - accuracy: 0.8511\n",
      "Epoch 3/30\n",
      "470/470 [==============================] - 0s 140us/step - loss: 0.1488 - accuracy: 0.8511\n",
      "Epoch 4/30\n",
      "470/470 [==============================] - 0s 142us/step - loss: 0.1488 - accuracy: 0.8511\n",
      "Epoch 5/30\n",
      "470/470 [==============================] - ETA: 0s - loss: 0.1466 - accuracy: 0.8531   - 0s 174us/step - loss: 0.1488 - accuracy: 0.8511\n",
      "Epoch 6/30\n",
      "470/470 [==============================] - 0s 179us/step - loss: 0.1487 - accuracy: 0.8511\n",
      "Epoch 7/30\n",
      "470/470 [==============================] - 0s 155us/step - loss: 0.1487 - accuracy: 0.8511\n",
      "Epoch 8/30\n",
      "470/470 [==============================] - 0s 191us/step - loss: 0.1487 - accuracy: 0.8511\n",
      "Epoch 9/30\n",
      "470/470 [==============================] - 0s 313us/step - loss: 0.1487 - accuracy: 0.8511\n",
      "Epoch 10/30\n",
      "470/470 [==============================] - 0s 208us/step - loss: 0.1486 - accuracy: 0.8511\n",
      "Epoch 11/30\n",
      "470/470 [==============================] - 0s 183us/step - loss: 0.1499 - accuracy: 0.8447\n",
      "Epoch 12/30\n",
      "470/470 [==============================] - 0s 191us/step - loss: 0.1486 - accuracy: 0.8511\n",
      "Epoch 13/30\n",
      "470/470 [==============================] - 0s 185us/step - loss: 0.1485 - accuracy: 0.8511\n",
      "Epoch 14/30\n",
      "470/470 [==============================] - 0s 153us/step - loss: 0.1483 - accuracy: 0.8511\n",
      "Epoch 15/30\n",
      "470/470 [==============================] - 0s 151us/step - loss: 0.1485 - accuracy: 0.8511\n",
      "Epoch 16/30\n",
      "470/470 [==============================] - 0s 147us/step - loss: 0.1490 - accuracy: 0.8447\n",
      "Epoch 17/30\n",
      "470/470 [==============================] - 0s 147us/step - loss: 0.1479 - accuracy: 0.8489\n",
      "Epoch 18/30\n",
      "470/470 [==============================] - 0s 140us/step - loss: 0.1482 - accuracy: 0.8468\n",
      "Epoch 19/30\n",
      "470/470 [==============================] - 0s 147us/step - loss: 0.1476 - accuracy: 0.8511\n",
      "Epoch 20/30\n",
      "470/470 [==============================] - 0s 147us/step - loss: 0.1480 - accuracy: 0.8511\n",
      "Epoch 21/30\n",
      "470/470 [==============================] - 0s 159us/step - loss: 0.1475 - accuracy: 0.8511\n",
      "Epoch 22/30\n",
      "470/470 [==============================] - 0s 142us/step - loss: 0.1469 - accuracy: 0.8511\n",
      "Epoch 23/30\n",
      "470/470 [==============================] - 0s 147us/step - loss: 0.1466 - accuracy: 0.8511\n",
      "Epoch 24/30\n",
      "470/470 [==============================] - 0s 172us/step - loss: 0.1475 - accuracy: 0.8489\n",
      "Epoch 25/30\n",
      "470/470 [==============================] - 0s 151us/step - loss: 0.1470 - accuracy: 0.8511\n",
      "Epoch 26/30\n",
      "470/470 [==============================] - 0s 155us/step - loss: 0.1466 - accuracy: 0.8511\n",
      "Epoch 27/30\n",
      "470/470 [==============================] - 0s 151us/step - loss: 0.1472 - accuracy: 0.8511\n",
      "Epoch 28/30\n",
      "470/470 [==============================] - 0s 140us/step - loss: 0.1471 - accuracy: 0.8511\n",
      "Epoch 29/30\n",
      "470/470 [==============================] - 0s 179us/step - loss: 0.1470 - accuracy: 0.8489\n",
      "Epoch 30/30\n",
      "470/470 [==============================] - 0s 155us/step - loss: 0.1461 - accuracy: 0.8532\n"
     ]
    },
    {
     "data": {
      "text/plain": [
       "<keras.callbacks.callbacks.History at 0x1b02be03d48>"
      ]
     },
     "execution_count": 8,
     "metadata": {},
     "output_type": "execute_result"
    }
   ],
   "source": [
    "# 딥러닝을 실행합니다.\n",
    "\n",
    "model.compile(loss='mean_squared_error', optimizer='adam',metrics=['accuracy'])\n",
    "model.fit(X,Y, epochs=30, batch_size=10)"
   ]
  },
  {
   "cell_type": "code",
   "execution_count": 10,
   "metadata": {},
   "outputs": [
    {
     "name": "stdout",
     "output_type": "stream",
     "text": [
      "470/470 [==============================] - 0s 108us/step\n",
      "\n",
      " Accuracy:0.8511\n"
     ]
    }
   ],
   "source": [
    "# 결과를 출력합니다.\n",
    "\n",
    "print(\"\\n Accuracy:%.4f\" % (model.evaluate(X,Y)[1]))"
   ]
  },
  {
   "cell_type": "code",
   "execution_count": null,
   "metadata": {},
   "outputs": [],
   "source": []
  }
 ],
 "metadata": {
  "kernelspec": {
   "display_name": "Python 3",
   "language": "python",
   "name": "python3"
  },
  "language_info": {
   "codemirror_mode": {
    "name": "ipython",
    "version": 3
   },
   "file_extension": ".py",
   "mimetype": "text/x-python",
   "name": "python",
   "nbconvert_exporter": "python",
   "pygments_lexer": "ipython3",
   "version": "3.7.4"
  }
 },
 "nbformat": 4,
 "nbformat_minor": 2
}
