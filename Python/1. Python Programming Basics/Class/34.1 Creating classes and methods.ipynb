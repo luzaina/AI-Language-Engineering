{
 "cells": [
  {
   "cell_type": "markdown",
   "metadata": {},
   "source": [
    "## >> 클래스 사용하기\n",
    "* 특정한 개념이나 모양으로 존재하는 것을 객체(object)라고 부름\n",
    "* 프로그래밍으로 객체를 만들 때 사용하는 것이 클래스임\n",
    "* 체력,마나,물리 공격력, 주문력 등의 데이터를 클래스의 속성(attribute)라 부르고, 베기,찌르기 등의 기능을 메서드(method)라 부름"
   ]
  },
  {
   "cell_type": "markdown",
   "metadata": {},
   "source": [
    "* 프로그래밍 방법을 객체지향(object oriented)프로그래밍이라고 함\n",
    "* 객체지향 프로그래밍은 복잡한 문제를 잘게 나누어 객체로 만들고, 객체를 조합해서 문제를 해결함\n",
    "* 현실 세계의 복잡한 문제를 처리하는 데 유용하며 기능을 개선하고 발전시킬 때도 해당클래스만 수정하면 되므로 유지 보수에도 효율적임"
   ]
  },
  {
   "cell_type": "markdown",
   "metadata": {},
   "source": [
    "## >> 클래스와 메서드 만들기\n",
    "* 클래스는 class에 클래스 이름을 지정하고:(콜론)을 붙인 뒤 다음 줄부터 def로 메서드를 작성되면 됨\n",
    "* 메서드는 클래스 안에 들어있는 함수를 뜻함\n",
    "* 파이썬에서는 클래스의 이름을 대문자로 시작하고 메서드 작성 방법은 함수와 같으며 코드는 반드시 들여쓰기를 해야 함(들여쓰기 규칙은 if,for,while과 같음)\n",
    "* 메서드의 첫 번째 매개변수는 반드시 self를 지정해야 함"
   ]
  },
  {
   "cell_type": "code",
   "execution_count": 1,
   "metadata": {},
   "outputs": [],
   "source": [
    "class 클래스이름:\n",
    "    def 메서드(self):\n",
    "        코드"
   ]
  },
  {
   "cell_type": "code",
   "execution_count": 5,
   "metadata": {},
   "outputs": [],
   "source": [
    "# 사람 클래스 작성\n",
    "class Human:\n",
    "    def greeting(self):\n",
    "        print('Hi')"
   ]
  },
  {
   "cell_type": "markdown",
   "metadata": {},
   "source": [
    "* 다음과 같이 클래스에 ()괄호를 붙인 뒤 변수에 할당함\n",
    " * 인스턴스 = 클래스()"
   ]
  },
  {
   "cell_type": "code",
   "execution_count": 6,
   "metadata": {},
   "outputs": [],
   "source": [
    "andrew= Human()"
   ]
  },
  {
   "cell_type": "markdown",
   "metadata": {},
   "source": [
    "* Person으로 변수 james를 만들었는데 이 andrew가 Human의 인스턴스(instance)임\n",
    "* 클래스는 특정 개념을 표현할 뿐 사용을 하려면 인스턴스를 생성해야 함"
   ]
  },
  {
   "cell_type": "markdown",
   "metadata": {},
   "source": [
    "## >> 메서드 호출하기\n",
    "* 메서드는 클래스가 아니라 인스턴스를 통해 호출함\n",
    "  * 인스턴스.메서드()"
   ]
  },
  {
   "cell_type": "code",
   "execution_count": 7,
   "metadata": {},
   "outputs": [
    {
     "name": "stdout",
     "output_type": "stream",
     "text": [
      "Hi\n"
     ]
    }
   ],
   "source": [
    "andrew.greeting()"
   ]
  },
  {
   "cell_type": "markdown",
   "metadata": {},
   "source": [
    "* 인스턴스를 통해 호출하는 메서드를 인스턴스 메서드라 부름"
   ]
  },
  {
   "cell_type": "markdown",
   "metadata": {},
   "source": [
    "## >> 파이썬에서 흔히 볼 수 있는 클래스\n",
    "* 지금까지 사용한 int,list,dict 등도 사실 클래스임\n",
    "* 우리는 이 클래스로 인스턴스를 만들고 메서드를 사용함"
   ]
  },
  {
   "cell_type": "code",
   "execution_count": 9,
   "metadata": {},
   "outputs": [
    {
     "data": {
      "text/plain": [
       "5"
      ]
     },
     "execution_count": 9,
     "metadata": {},
     "output_type": "execute_result"
    }
   ],
   "source": [
    "Q = int(5)\n",
    "Q"
   ]
  },
  {
   "cell_type": "code",
   "execution_count": 10,
   "metadata": {},
   "outputs": [
    {
     "data": {
      "text/plain": [
       "[0, 1, 2, 3, 4, 5, 6]"
      ]
     },
     "execution_count": 10,
     "metadata": {},
     "output_type": "execute_result"
    }
   ],
   "source": [
    "S = list(range(7))\n",
    "S"
   ]
  },
  {
   "cell_type": "code",
   "execution_count": 12,
   "metadata": {},
   "outputs": [
    {
     "data": {
      "text/plain": [
       "{'x': 5, 'y': 10}"
      ]
     },
     "execution_count": 12,
     "metadata": {},
     "output_type": "execute_result"
    }
   ],
   "source": [
    "K = dict(x= 5, y=10)\n",
    "K"
   ]
  },
  {
   "cell_type": "markdown",
   "metadata": {},
   "source": [
    "## >> 파이썬에서 흔히 볼 수 있는 클래스\n",
    "* 인스턴스 a에서 메서드 append를 호출해서 값을 추가함\n",
    "* 이 부분도 지금까지 메서드를 만들고 사용한 것과 같은 방식임"
   ]
  },
  {
   "cell_type": "code",
   "execution_count": 13,
   "metadata": {},
   "outputs": [
    {
     "data": {
      "text/plain": [
       "[0, 1, 2, 3, 4, 5, 6, 7, 9]"
      ]
     },
     "execution_count": 13,
     "metadata": {},
     "output_type": "execute_result"
    }
   ],
   "source": [
    "a = list(range(8))\n",
    "a.append(9)\n",
    "a"
   ]
  },
  {
   "cell_type": "markdown",
   "metadata": {},
   "source": [
    "* 파이썬에서는 자료형도 클래스임"
   ]
  },
  {
   "cell_type": "code",
   "execution_count": 14,
   "metadata": {},
   "outputs": [
    {
     "data": {
      "text/plain": [
       "int"
      ]
     },
     "execution_count": 14,
     "metadata": {},
     "output_type": "execute_result"
    }
   ],
   "source": [
    "c = 5\n",
    "type(c)"
   ]
  },
  {
   "cell_type": "code",
   "execution_count": 16,
   "metadata": {},
   "outputs": [
    {
     "data": {
      "text/plain": [
       "list"
      ]
     },
     "execution_count": 16,
     "metadata": {},
     "output_type": "execute_result"
    }
   ],
   "source": [
    "d = [1,3,5,7]\n",
    "type(d)"
   ]
  },
  {
   "cell_type": "code",
   "execution_count": 18,
   "metadata": {},
   "outputs": [
    {
     "data": {
      "text/plain": [
       "dict"
      ]
     },
     "execution_count": 18,
     "metadata": {},
     "output_type": "execute_result"
    }
   ],
   "source": [
    "e = {'x':5, 'y':10}\n",
    "type(e)"
   ]
  },
  {
   "cell_type": "code",
   "execution_count": 20,
   "metadata": {},
   "outputs": [
    {
     "data": {
      "text/plain": [
       "__main__.Human"
      ]
     },
     "execution_count": 20,
     "metadata": {},
     "output_type": "execute_result"
    }
   ],
   "source": [
    "Merry = Human()\n",
    "type(Merry)"
   ]
  },
  {
   "cell_type": "markdown",
   "metadata": {},
   "source": [
    "## >> 인스턴스와 객체의 차이점\n",
    "* 보통 객체만 지칭할 때는 그냥 객체(object)라고 부름\n",
    "* 클래스와 연관지어서 말할 때는 인스턴스(instance)라 부름\n",
    "* 다음과 같이 리스트 변수 c,d가 있으면 c,d는 객체임\n",
    "* c와 d는 list 클래스의 인스턴스임"
   ]
  },
  {
   "cell_type": "code",
   "execution_count": 21,
   "metadata": {},
   "outputs": [],
   "source": [
    "c = list(range(5))\n",
    "d = list(range(10))"
   ]
  },
  {
   "cell_type": "code",
   "execution_count": null,
   "metadata": {},
   "outputs": [],
   "source": []
  }
 ],
 "metadata": {
  "kernelspec": {
   "display_name": "Python 3",
   "language": "python",
   "name": "python3"
  },
  "language_info": {
   "codemirror_mode": {
    "name": "ipython",
    "version": 3
   },
   "file_extension": ".py",
   "mimetype": "text/x-python",
   "name": "python",
   "nbconvert_exporter": "python",
   "pygments_lexer": "ipython3",
   "version": "3.8.5"
  }
 },
 "nbformat": 4,
 "nbformat_minor": 4
}
