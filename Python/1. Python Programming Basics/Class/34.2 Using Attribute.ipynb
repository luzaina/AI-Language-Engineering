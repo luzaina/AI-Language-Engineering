{
 "cells": [
  {
   "cell_type": "markdown",
   "metadata": {},
   "source": [
    "## >> 속성 사용하기\n",
    "* 속성(attribute)을 만들 때는 __init__ 메서드 안에서 self.속성에 값을 할당함"
   ]
  },
  {
   "cell_type": "code",
   "execution_count": 1,
   "metadata": {},
   "outputs": [],
   "source": [
    "class 클래스이름:\n",
    "    def __init__(self):\n",
    "        self.속성 = 값"
   ]
  },
  {
   "cell_type": "code",
   "execution_count": 2,
   "metadata": {},
   "outputs": [
    {
     "name": "stdout",
     "output_type": "stream",
     "text": [
      "안녕.\n"
     ]
    }
   ],
   "source": [
    "class Human:\n",
    "    def __init__(self):\n",
    "        self.hi = '안녕.'\n",
    "        \n",
    "    def greeting(self):\n",
    "        print(self.hi)\n",
    "        \n",
    "andrew = Human()\n",
    "andrew.greeting()  # 안녕하세요\n",
    "        \n",
    "        "
   ]
  },
  {
   "cell_type": "markdown",
   "metadata": {},
   "source": [
    "* __init__ 메서드는 andrew = Person()처럼 클래스에 ()괄호를 붙여서 인스턴스를 만들 때 호출되는 특별한 메서드임\n",
    "* init__(initialize)라는 이름 그대로 인스턴스(객체)를 초기화함\n",
    "* 앞 뒤로 __(및줄 두 개)가 붙은 메서드는 파이썬이 자동으로 호출해주는 메서드인데 스페셜 메서드(special method)또는 매직메서드(magic method)라고 부름\n",
    "* 파이썬의 여러 가지 기능을 사용할 때 이 스페셜 메서드를 채우는 식으로 사용하게 됨\n",
    "* 속성은 __init__ 메서드에서 만든다는 점과 self에 .(점)을 붙인 뒤 값을 할당한다는 점이 중요함\n",
    "* 클래스 안에서 속성을 사용할 때도 self.hi처럼 self에 점을 붙여서 사용하면 됨"
   ]
  },
  {
   "cell_type": "markdown",
   "metadata": {},
   "source": [
    "## >> self의 의미\n",
    "* self는 인스턴스 자기 자신을 의미함\n",
    "* 우리는 인스턴스가 생성될 때 self.hi = '안녕'처럼 자기 자신에 속성을 추가함\n",
    "* __init__의 매개변수 self에 들어가는 값은 Human()이라 할 수 있음\n",
    "* self가 완성된 뒤 andrew가 할당됨\n",
    "* 호출하면 현재 인스턴스가 자동으로 매개변수 self에 들어옴\n",
    "* greeting 메서드에서 print(self.hi)처럼 속성을 출력할 수 있었던 것임"
   ]
  },
  {
   "cell_type": "markdown",
   "metadata": {},
   "source": [
    "## >> 인스턴스를 만들 때 값 받기\n",
    "* 다음과 같이 __init__메서드에서 self 다음ㅇ메 값을 받을 매개변수를 지정함\n",
    "* 매개변수를 self속성에 넣어줌"
   ]
  },
  {
   "cell_type": "code",
   "execution_count": 12,
   "metadata": {},
   "outputs": [],
   "source": [
    "class 클래스이름:\n",
    "    def __init__(self, 매개변수1, 매개변수2):\n",
    "        self.속성1 = 매개변수1\n",
    "        self.속성2 = 매개변수2"
   ]
  },
  {
   "cell_type": "markdown",
   "metadata": {},
   "source": [
    "## >> 인스턴스를 만들 때 값 받기\n",
    "* Human 클래스로 인스턴스를 만들 때 이름,나이,주소 받기\n",
    "* 클래스 안에서는 self.속성이었다면, 클래스 바깥에서 속성에 접근할 때는 인스턴스.속성 형식으로 접근함\n",
    "* 다음과 같이 merry.name, merry.age,merry.address의 값을 출력해보면 Human으로 인스턴스를 만들 때 넣었던 값이 출력됨\n",
    "* 인스턴스를 통해 접근하는 속성을 인스턴스 속성이라 부름"
   ]
  },
  {
   "cell_type": "code",
   "execution_count": 14,
   "metadata": {},
   "outputs": [
    {
     "name": "stdout",
     "output_type": "stream",
     "text": [
      "안녕 나는 메리야.\n",
      "이름: 메리\n",
      "나이: 30\n",
      "주소: 울산광역시 북구 매곡동\n"
     ]
    }
   ],
   "source": [
    "class Human:\n",
    "    def __init__(self, name,age,address):\n",
    "        self.hi = '안녕'\n",
    "        self.name = name\n",
    "        self.age = age\n",
    "        self.address = address\n",
    "        \n",
    "    def greeting(self):\n",
    "        print('{0} 나는 {1}야.'.format(self.hi, self.name))\n",
    "        \n",
    "merry = Human('메리', 30, '울산광역시 북구 매곡동')\n",
    "merry.greeting()\n",
    "\n",
    "print('이름:', merry.name)\n",
    "print('나이:',merry.age)\n",
    "print('주소:',merry.address)"
   ]
  },
  {
   "cell_type": "markdown",
   "metadata": {},
   "source": []
  }
 ],
 "metadata": {
  "kernelspec": {
   "display_name": "Python 3",
   "language": "python",
   "name": "python3"
  },
  "language_info": {
   "codemirror_mode": {
    "name": "ipython",
    "version": 3
   },
   "file_extension": ".py",
   "mimetype": "text/x-python",
   "name": "python",
   "nbconvert_exporter": "python",
   "pygments_lexer": "ipython3",
   "version": "3.8.5"
  }
 },
 "nbformat": 4,
 "nbformat_minor": 4
}
