{
 "cells": [
  {
   "cell_type": "markdown",
   "metadata": {},
   "source": [
    "## 클래스를 작성하여 게임 캐릭터의 능력치와 '베기'가 출력되게 만들자."
   ]
  },
  {
   "cell_type": "code",
   "execution_count": 3,
   "metadata": {},
   "outputs": [
    {
     "data": {
      "text/plain": [
       "'\\nx = knight(health=542.4, mana=:210.3, armor=38)\\nprint(x.health, x.mana, x.armor)\\nx.slash()\\n'"
      ]
     },
     "execution_count": 3,
     "metadata": {},
     "output_type": "execute_result"
    }
   ],
   "source": [
    "# practise_class\n",
    "'''\n",
    "x = knight(health=542.4, mana=:210.3, armor=38)\n",
    "print(x.health, x.mana, x.armor)\n",
    "x.slash()\n",
    "'''"
   ]
  },
  {
   "cell_type": "code",
   "execution_count": 9,
   "metadata": {},
   "outputs": [
    {
     "name": "stdout",
     "output_type": "stream",
     "text": [
      "베기\n",
      "542.4 210.3 38\n"
     ]
    }
   ],
   "source": [
    "class Knight:\n",
    "    def __init__(self, health, mana, armor):\n",
    "        self.health = health\n",
    "        self.mana = mana\n",
    "        self.armor = armor\n",
    "        \n",
    "    def slash(self):\n",
    "        print('베기')\n",
    "        \n",
    "x = Knight(health=542.4, mana=210.3, armor=38)\n",
    "x.slash()\n",
    "print(x.health, x.mana, x.armor)"
   ]
  },
  {
   "cell_type": "code",
   "execution_count": 26,
   "metadata": {},
   "outputs": [
    {
     "name": "stdout",
     "output_type": "stream",
     "text": [
      "저는 중형차를 구매하고 싶어요\n",
      "색상: black\n",
      "가격: 2000만원\n",
      "브랜드: 소나타\n"
     ]
    }
   ],
   "source": [
    "# praictise_class2\n",
    "\n",
    "class Car:\n",
    "    def __init__(self, color, price, brand):\n",
    "        self.car_model = '중형차'\n",
    "        self.color = color\n",
    "        self.price = price\n",
    "        self.brand = brand\n",
    "    \n",
    "    def choice(self):\n",
    "        print('저는 {0}를 구매하고 싶어요'.format(self.car_model))\n",
    "        \n",
    "      \n",
    "sonata = Car(color= 'black', price='2000만원',brand='소나타')     \n",
    "sonata.choice()\n",
    "\n",
    "print('색상:',sonata.color )\n",
    "print('가격:',sonata.price)\n",
    "print('브랜드:',sonata.brand)\n"
   ]
  },
  {
   "cell_type": "code",
   "execution_count": null,
   "metadata": {},
   "outputs": [],
   "source": []
  }
 ],
 "metadata": {
  "kernelspec": {
   "display_name": "Python 3",
   "language": "python",
   "name": "python3"
  },
  "language_info": {
   "codemirror_mode": {
    "name": "ipython",
    "version": 3
   },
   "file_extension": ".py",
   "mimetype": "text/x-python",
   "name": "python",
   "nbconvert_exporter": "python",
   "pygments_lexer": "ipython3",
   "version": "3.8.5"
  }
 },
 "nbformat": 4,
 "nbformat_minor": 4
}
